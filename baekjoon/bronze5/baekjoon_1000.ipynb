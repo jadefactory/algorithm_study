{
  "cells": [
    {
      "cell_type": "markdown",
      "metadata": {
        "id": "tWAh7pROVfcc"
      },
      "source": [
        "## 문제 : A+B\n",
        "두 정수 A와 B를 입력받은 다음, A+B를 출력하는 프로그램을 작성하시오."
      ]
    },
    {
      "cell_type": "markdown",
      "metadata": {
        "id": "N27cxkcrVqOb"
      },
      "source": [
        "## 입력\n",
        "\n",
        "첫째 줄에 A와 B가 주어진다. (0 < A, B < 10)"
      ]
    },
    {
      "cell_type": "markdown",
      "metadata": {
        "id": "bdDb9UdPVue5"
      },
      "source": [
        "## 출력\n",
        "첫째 줄에 A+B를 출력한다."
      ]
    },
    {
      "cell_type": "code",
      "execution_count": 1,
      "metadata": {
        "colab": {
          "base_uri": "https://localhost:8080/"
        },
        "id": "k6F31AS0VoMZ",
        "outputId": "46a7fa5e-07e5-4605-f417-73a624f9b7f7"
      },
      "outputs": [
        {
          "name": "stdout",
          "output_type": "stream",
          "text": [
            "1 2\n",
            "3\n"
          ]
        }
      ],
      "source": [
        "a, b = map(int, input().split())\n",
        "\n",
        "print(a+b)"
      ]
    },
    {
      "cell_type": "markdown",
      "metadata": {
        "id": "UI2SRexoWFu1"
      },
      "source": [
        "## 실행결과\n",
        "\n",
        "- 메모리 : 29200KB\n",
        "- 시간 : 68ms\n",
        "- 코드길이 : 43B"
      ]
    }
  ],
  "metadata": {
    "colab": {
      "collapsed_sections": [],
      "name": "baekjoon_1000",
      "provenance": []
    },
    "kernelspec": {
      "display_name": "Python 3",
      "name": "python3"
    },
    "language_info": {
      "name": "python"
    }
  },
  "nbformat": 4,
  "nbformat_minor": 0
}
