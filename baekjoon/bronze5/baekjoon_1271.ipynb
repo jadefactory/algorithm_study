{
  "nbformat": 4,
  "nbformat_minor": 0,
  "metadata": {
    "colab": {
      "name": "baekjoon_1271",
      "provenance": [],
      "collapsed_sections": []
    },
    "kernelspec": {
      "name": "python3",
      "display_name": "Python 3"
    },
    "language_info": {
      "name": "python"
    }
  },
  "cells": [
    {
      "cell_type": "markdown",
      "source": [
        "## 문제 : 엄청난 부자2\n",
        "\n",
        "갑부 최백준 조교는 동전을 최소로 바꾸는데 성공했으나 김재홍 조교가 그 돈을 발견해서 최백준 조교에게 그 돈을 나누자고 따진다.\n",
        "\n",
        "그 사실이 전 우주로 알려지자 우주에 있던 많은 생명체들이 자신들에게 돈을 분배해 달라고 당장 달려오기 시작했다.\n",
        "\n",
        "프로토스 중앙 우주 정부의 정책인, ‘모든 지적 생명체는 동등하다’라는 규칙에 입각해서 돈을 똑같이 분배하고자 한다.\n",
        "\n",
        "한 생명체에게 얼마씩 돈을 줄 수 있는가?\n",
        "\n",
        "또, 생명체들에게 동일하게 분배한 후 남는 돈은 얼마인가?"
      ],
      "metadata": {
        "id": "tWAh7pROVfcc"
      }
    },
    {
      "cell_type": "markdown",
      "source": [
        "## 입력\n",
        "\n",
        "첫째 줄에는 최백준 조교가 가진 돈 n과 돈을 받으러 온 생명체의 수 m이 주어진다. ( $1 ≤ m ≤ n ≤ 10^{1000}$, m과 n은 10진수 정수)"
      ],
      "metadata": {
        "id": "N27cxkcrVqOb"
      }
    },
    {
      "cell_type": "markdown",
      "source": [
        "## 출력\n",
        "첫째 줄에 생명체 하나에게 돌아가는 돈의 양을 출력한다. 그리고 두 번째 줄에는 1원씩 분배할 수 없는 남는 돈을 출력한다."
      ],
      "metadata": {
        "id": "bdDb9UdPVue5"
      }
    },
    {
      "cell_type": "code",
      "source": [
        "n, m = list(map(int, input().split()))\n",
        "\n",
        "print(n // m)\n",
        "print(n % m)"
      ],
      "metadata": {
        "colab": {
          "base_uri": "https://localhost:8080/"
        },
        "id": "k6F31AS0VoMZ",
        "outputId": "d559a270-ac8b-4b75-cd28-b98b5465f9aa"
      },
      "execution_count": 1,
      "outputs": [
        {
          "output_type": "stream",
          "name": "stdout",
          "text": [
            "1000 100\n",
            "10\n",
            "0\n"
          ]
        }
      ]
    },
    {
      "cell_type": "markdown",
      "source": [
        "## 실행결과\n",
        "\n",
        "- 메모리 : 29200KB\n",
        "- 시간 : 68ms\n",
        "- 코드길이 : 66B"
      ],
      "metadata": {
        "id": "UI2SRexoWFu1"
      }
    },
    {
      "cell_type": "code",
      "source": [
        ""
      ],
      "metadata": {
        "id": "pX16zxoowCfm"
      },
      "execution_count": null,
      "outputs": []
    }
  ]
}