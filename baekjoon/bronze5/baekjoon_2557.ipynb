{
  "nbformat": 4,
  "nbformat_minor": 0,
  "metadata": {
    "colab": {
      "name": "baekjoon_2557",
      "provenance": [],
      "collapsed_sections": []
    },
    "kernelspec": {
      "name": "python3",
      "display_name": "Python 3"
    },
    "language_info": {
      "name": "python"
    }
  },
  "cells": [
    {
      "cell_type": "markdown",
      "source": [
        "## 문제 : Hello World\n",
        "\n",
        "Hello World!를 출력하시오."
      ],
      "metadata": {
        "id": "tWAh7pROVfcc"
      }
    },
    {
      "cell_type": "markdown",
      "source": [
        "## 입력\n",
        "\n",
        "없음"
      ],
      "metadata": {
        "id": "N27cxkcrVqOb"
      }
    },
    {
      "cell_type": "markdown",
      "source": [
        "## 출력\n",
        "\n",
        "Hello World!를 출력하시오."
      ],
      "metadata": {
        "id": "bdDb9UdPVue5"
      }
    },
    {
      "cell_type": "code",
      "source": [
        "print('Hello World!')"
      ],
      "metadata": {
        "colab": {
          "base_uri": "https://localhost:8080/"
        },
        "id": "k6F31AS0VoMZ",
        "outputId": "dd4a7b66-399e-41a9-b89e-a9a8212e2882"
      },
      "execution_count": 1,
      "outputs": [
        {
          "output_type": "stream",
          "name": "stdout",
          "text": [
            "Hello World!\n"
          ]
        }
      ]
    },
    {
      "cell_type": "markdown",
      "source": [
        "## 실행결과\n",
        "\n",
        "- 메모리 : 29200KB\n",
        "- 시간 : 60ms\n",
        "- 코드길이 : 21B"
      ],
      "metadata": {
        "id": "UI2SRexoWFu1"
      }
    },
    {
      "cell_type": "code",
      "source": [
        ""
      ],
      "metadata": {
        "id": "pX16zxoowCfm"
      },
      "execution_count": null,
      "outputs": []
    }
  ]
}