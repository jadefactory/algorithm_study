{
  "nbformat": 4,
  "nbformat_minor": 0,
  "metadata": {
    "colab": {
      "name": "baekjoon_1000",
      "provenance": [],
      "collapsed_sections": []
    },
    "kernelspec": {
      "name": "python3",
      "display_name": "Python 3"
    },
    "language_info": {
      "name": "python"
    }
  },
  "cells": [
    {
      "cell_type": "markdown",
      "source": [
        "## 문제\n",
        "두 정수 A와 B를 입력받은 다음, A+B를 출력하는 프로그램을 작성하시오."
      ],
      "metadata": {
        "id": "tWAh7pROVfcc"
      }
    },
    {
      "cell_type": "markdown",
      "source": [
        "## 입력\n",
        "\n",
        "첫째 줄에 A와 B가 주어진다. (0 < A, B < 10)"
      ],
      "metadata": {
        "id": "N27cxkcrVqOb"
      }
    },
    {
      "cell_type": "markdown",
      "source": [
        "## 출력\n",
        "첫째 줄에 A+B를 출력한다."
      ],
      "metadata": {
        "id": "bdDb9UdPVue5"
      }
    },
    {
      "cell_type": "code",
      "source": [
        "a, b = map(int, input().split())\n",
        "\n",
        "print(a+b)"
      ],
      "metadata": {
        "colab": {
          "base_uri": "https://localhost:8080/"
        },
        "id": "k6F31AS0VoMZ",
        "outputId": "46a7fa5e-07e5-4605-f417-73a624f9b7f7"
      },
      "execution_count": 1,
      "outputs": [
        {
          "output_type": "stream",
          "name": "stdout",
          "text": [
            "1 2\n",
            "3\n"
          ]
        }
      ]
    },
    {
      "cell_type": "markdown",
      "source": [
        "## 실행결과\n",
        "\n",
        "- 메모리 : 29200KB\n",
        "- 시간 : 68ms\n",
        "- 코드길이 : 43B"
      ],
      "metadata": {
        "id": "UI2SRexoWFu1"
      }
    }
  ]
}