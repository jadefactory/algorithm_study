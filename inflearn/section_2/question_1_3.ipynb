{
  "cells": [
    {
      "cell_type": "markdown",
      "metadata": {
        "id": "c3AD1bzFUwHf"
      },
      "source": [
        "#### K번째 약수\n",
        "\n",
        "두 개의 자연수 N과 K가 주어졌을 때, N의 약수들 중 K번째로 작은 수를 출력하는 프로그램을 작성하시오.\n",
        "\n",
        "- 첫째 줄에 N과 K가 빈칸을 사이에 두고 주어진다. N은 1 이상 10,000이하이다. K는 1 이상 N 이하이다.\n",
        "- 첫째 줄에 N의 약수들 중 K번째로 작은 수를 출력한다. 만약 N의 약수의 개수가 K개보다  적어서 K번째 약수가 존재하지 않을 경우에는 -1을 출력하시오."
      ]
    },
    {
      "cell_type": "code",
      "execution_count": 2,
      "metadata": {
        "colab": {
          "base_uri": "https://localhost:8080/"
        },
        "id": "rfziOysGS-E-",
        "outputId": "d3d368c9-2e0e-49b9-97a2-edaa5ba93b10"
      },
      "outputs": [
        {
          "name": "stdout",
          "output_type": "stream",
          "text": [
            "6 3\n",
            "3\n"
          ]
        }
      ],
      "source": [
        "N, K = map(int, input().split(' '))\n",
        "\n",
        "factors = []\n",
        "\n",
        "for num in range(1, N+1):\n",
        "    if N % num == 0:\n",
        "        factors.append(num)\n",
        "\n",
        "factors.sort()\n",
        "\n",
        "if len(factors) < K:\n",
        "    print(-1)\n",
        "else:\n",
        "    print(factors[K-1])"
      ]
    },
    {
      "cell_type": "markdown",
      "metadata": {
        "id": "j_vXbMYp6MsA"
      },
      "source": [
        "#### K번째 수\n",
        "\n",
        "N개의 숫자로 이루어진 숫자열이 주어지면 해당 숫자열 중에서 s번째부터 e번째 까지의 수를 오름차순으로 정렬했을 때 k번째로 나타나는 숫자를 출력하는 프로그램을 작성하세요.\n",
        "\n",
        "- 첫 번째 줄에 테스트 케이스 T(1 <= T <= 10)이 주어집니다. 각 케이스별 첫 번째 줄은 자연수 N(5 <= N <= 500), s, e, k가 차례로 주어집니다. 두 번째 출에 N개의 숫자가 차례로 주어집니다.\n",
        "- 각 케이스별 k번째 수를 아래 출력예제와 같이 출력하세요.\n",
        "<br>\n",
        "[ 출력예제 ]\n",
        "<br>\n",
        "#1 7\n",
        "<br>\n",
        "#2 6"
      ]
    },
    {
      "cell_type": "code",
      "execution_count": null,
      "metadata": {
        "id": "xGkWXVL_9UFK"
      },
      "outputs": [],
      "source": [
        "# <input>\n",
        "# 2\n",
        "# 6 2 5 3\n",
        "# 5 2 7 3 8 9\n",
        "# 15 3 10 3\n",
        "# 4 15 8 16 6 6 17 3 10 11 18 7 14 7 15\n",
        "\n",
        "from sys import stdin\n",
        "\n",
        "index_box = []\n",
        "numbers_box = []\n",
        "\n",
        "n = int(stdin.readline().strip())\n",
        "\n",
        "for _ in range(n):\n",
        "    index = list(map(int, stdin.readline().strip().split()))\n",
        "    index_box.append(index)\n",
        "\n",
        "    numbers = list(map(int, stdin.readline().strip().split()))\n",
        "    numbers_box.append(numbers)\n",
        "\n",
        "for i in range(n):\n",
        "    start = index_box[i][1] - 1\n",
        "    end = index_box[i][2]\n",
        "    index = index_box[i][3] - 1\n",
        "    result = numbers_box[i][start:end]\n",
        "\n",
        "    result.sort()\n",
        "    answer = result[index]\n",
        "    print('#{} {}'.format(i+1, answer))\n",
        "\n",
        "# <output>\n",
        "# #1 7\n",
        "# #2 6"
      ]
    },
    {
      "cell_type": "markdown",
      "metadata": {
        "id": "bJ_dp0-jFFcI"
      },
      "source": [
        "#### K번째 큰 수 \n",
        "\n",
        "현수는 1부터 100 사이의 자연수가 적힌 N장의 카드를 가지고 있습니다. 같은 숫자의 카드가 여러 장 있을 수 있습니다. 현수는 이 중에서 3장을 뽑아 각 카드에 적힌 수를 합한 값을 기록하려고 합니다. 3장을 뽑을 수 있는 모든 경우의 수를 기록합니다. 기록한 값 중에서 K번째로 큰 수를 출력하는 프로그램을 작성하세요. 만약 큰 수부터 만들어진 수가 25 25 23 23 22 20 19 ... 이고 K값이 3이라면 K번째로 큰 값은 22입니다.\n",
        "- 첫 줄에 자연수 N(3 <= N <= 100)과 K(1 <= K <= 50)가 입력되고, 그 다음 줄에 N개의 카드값이 입력됩니다.\n",
        "- 첫 줄에 K번째 수가 출력되도록 해주세요. K번째 수는 반드시 존재합니다. "
      ]
    },
    {
      "cell_type": "code",
      "execution_count": null,
      "metadata": {
        "id": "oWdHk6swFkY4"
      },
      "outputs": [],
      "source": [
        "# <input>\n",
        "# 10 3\n",
        "# 13 15 34 23 45 65 33 11 26 42\n",
        "\n",
        "from sys import stdin\n",
        "from itertools import combinations\n",
        "\n",
        "N, K = list(map(int, stdin.readline().strip().split()))\n",
        "numbers = list(map(int, stdin.readline().strip().split()))\n",
        "combination = list(combinations(numbers, 3))\n",
        "\n",
        "summation = []\n",
        "for case in combination:\n",
        "    summation.append(sum(case))\n",
        "\n",
        "summation.sort(reverse=True)\n",
        "print(summation[K-1])\n",
        "\n",
        "# <output>\n",
        "# 143"
      ]
    }
  ],
  "metadata": {
    "colab": {
      "collapsed_sections": [],
      "name": "알고리즘 연습장",
      "provenance": []
    },
    "kernelspec": {
      "display_name": "Python 3",
      "name": "python3"
    },
    "language_info": {
      "name": "python"
    }
  },
  "nbformat": 4,
  "nbformat_minor": 0
}
