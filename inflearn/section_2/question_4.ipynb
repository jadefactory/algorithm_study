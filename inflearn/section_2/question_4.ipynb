{
  "nbformat": 4,
  "nbformat_minor": 0,
  "metadata": {
    "colab": {
      "name": "알고리즘 연습장",
      "provenance": [],
      "collapsed_sections": []
    },
    "kernelspec": {
      "name": "python3",
      "display_name": "Python 3"
    },
    "language_info": {
      "name": "python"
    }
  },
  "cells": [
    {
      "cell_type": "markdown",
      "source": [
        "#### 대표값\n",
        "\n",
        "N명의 학생의 수학 점수가 주어집니다. N명의 학생들의 평균(소수 첫째자리 반올림)을 구하고, N명의 학생 중 평균에 가장 가까운 점수를 받은 학생은 몇 번째 학생인지 출력하는 프로그램을 작성하세요. 평균과 가장 가까운 점수가 여러 개일 경우 점수가 높은 학생의 번호를 출력하고, 조건을 만족하는 점수를 가진 학생이 여러 명일 경우 그 중에서 번호가 가장 앞에 있는 학생의 번호를 출력하세요.\n",
        "- 첫 줄에 자연수 N(5 <= N <= 100)이 주어지고, 두 번째 줄에는 각 학생의 수학점수인 N개의 자연수가 주어집니다. 학생의 번호는 1부터 시작하여 N까지 부여됩니다.\n",
        "- 첫 줄에 [평균]과 [평균에 가장 가까운 점수를 가진 학생의 번호]를 출력하세요. 평균은 소수 첫째 자리에서 반올림합니다.  "
      ],
      "metadata": {
        "id": "uRyaLnVFRHt8"
      }
    },
    {
      "cell_type": "code",
      "source": [
        "# <input>\n",
        "# 10\n",
        "# 45 73 66 87 92 67 75 79 75 80\n",
        "\n",
        "from sys import stdin\n",
        "\n",
        "N = int(stdin.readline().strip())\n",
        "scores = list(map(int, stdin.readline().strip().split()))\n",
        "\n",
        "# round 함수는 round_half_even 방식으로 작동하기 때문에, 4.5, 5.5 등 소수부의 값이 0.5인 경우 짝수에 가까운 정수값으로 결과를 출력한다.\n",
        "# 반올림 오류를 방지하기 위해, 주어진 값에 0.5를 더하여 결과를 출력한다.\n",
        "avg = round(sum(scores) / N + 0.5)\n",
        "\n",
        "residual = []\n",
        "for elem in scores:\n",
        "    residual.append(abs(avg - elem))\n",
        "\n",
        "residual.sort()\n",
        "\n",
        "minimum = residual[0]\n",
        "\n",
        "result = []\n",
        "for i in range(len(scores)):\n",
        "    if abs(scores[i] - avg) == minimum:\n",
        "        result.append(scores[i])\n",
        "\n",
        "result.sort()\n",
        "answer = scores.index(result[-1]) + 1\n",
        "\n",
        "print(avg, answer)\n",
        "\n",
        "# <output>\n",
        "# 74 7"
      ],
      "metadata": {
        "id": "yh2kFhnRPqOh"
      },
      "execution_count": null,
      "outputs": []
    }
  ]
}