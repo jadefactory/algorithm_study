{
  "nbformat": 4,
  "nbformat_minor": 0,
  "metadata": {
    "colab": {
      "name": "알고리즘 연습장",
      "provenance": [],
      "collapsed_sections": []
    },
    "kernelspec": {
      "name": "python3",
      "display_name": "Python 3"
    },
    "language_info": {
      "name": "python"
    }
  },
  "cells": [
    {
      "cell_type": "markdown",
      "source": [
        "#### 정다면체"
      ],
      "metadata": {
        "id": "PM4ZfQOgWWYJ"
      }
    },
    {
      "cell_type": "code",
      "source": [
        "import collections\n",
        "\n",
        "N, M = map(int, input().split())\n",
        "\n",
        "N_numbers = []\n",
        "M_numbers = []\n",
        "\n",
        "for num in range(1, N + 1):\n",
        "    N_numbers.append(num)\n",
        "\n",
        "for num in range(1, M + 1):\n",
        "    M_numbers.append(num)\n",
        "\n",
        "summation = []\n",
        "for i in N_numbers:\n",
        "    for j in M_numbers:\n",
        "        summation.append(i + j)\n",
        "\n",
        "count_result = collections.Counter(summation)\n",
        "result_sorted = sorted(count_result.items(), key=lambda item:item[1])\n",
        "max_count = result_sorted[-1][1]\n",
        "\n",
        "for case in result_sorted:\n",
        "    if case[1] == max_count:\n",
        "        print(case[0], end=' ')"
      ],
      "metadata": {
        "colab": {
          "base_uri": "https://localhost:8080/"
        },
        "id": "X71hDPhQWQ_A",
        "outputId": "9daa44d8-4600-41fa-abc4-12b83523f971"
      },
      "execution_count": null,
      "outputs": [
        {
          "output_type": "stream",
          "name": "stdout",
          "text": [
            "4 6\n",
            "5 6 7 "
          ]
        }
      ]
    },
    {
      "cell_type": "markdown",
      "source": [
        "#### 자릿수의 합"
      ],
      "metadata": {
        "id": "DK2BZgSae6W4"
      }
    },
    {
      "cell_type": "code",
      "source": [
        "# <input>\n",
        "# 3\n",
        "# 125 15232 97\n",
        "\n",
        "from sys import stdin\n",
        "\n",
        "N = int(stdin.readline())\n",
        "strings = list(stdin.readline().strip().split())\n",
        "\n",
        "digits = []\n",
        "for num in strings:\n",
        "    digits.append(num.split())\n",
        "\n",
        "numbers = []\n",
        "for num_set in digits:\n",
        "    for elem in num_set:\n",
        "        numbers.append(list(map(int, elem)))\n",
        "\n",
        "summation = []\n",
        "for arr in numbers:\n",
        "    summation.append(sum(arr))\n",
        "\n",
        "summation_sorted = sorted(summation)\n",
        "max_sum = summation_sorted[-1]\n",
        "\n",
        "max_index = None\n",
        "for index, value in enumerate(summation):\n",
        "    if value == max_sum:\n",
        "        max_index = index\n",
        "\n",
        "answer = int(digits[max_index][0])\n",
        "print(answer)\n",
        "\n",
        "# <output>\n",
        "# 97"
      ],
      "metadata": {
        "id": "WFoAf77VWzvA"
      },
      "execution_count": null,
      "outputs": []
    },
    {
      "cell_type": "markdown",
      "source": [
        "#### 소수(에라토스테네스 체)"
      ],
      "metadata": {
        "id": "siVAF7C7fDe3"
      }
    },
    {
      "cell_type": "code",
      "source": [
        "N = int(input())\n",
        "\n",
        "numbers = []\n",
        "for num in range(2, N + 1):\n",
        "    numbers.append(num)\n",
        "\n",
        "prime_number = []\n",
        "for num in numbers:\n",
        "    container = []\n",
        "    for i in range(1, num + 1):\n",
        "        if num % i == 0:\n",
        "            container.append(i)\n",
        "    \n",
        "    if len(container) == 2:\n",
        "        prime_number.append(num)\n",
        "\n",
        "print(len(prime_number))"
      ],
      "metadata": {
        "colab": {
          "base_uri": "https://localhost:8080/"
        },
        "id": "--jEtdwDfFnO",
        "outputId": "e9f6f0ec-e515-433b-be75-25843e2287bb"
      },
      "execution_count": null,
      "outputs": [
        {
          "output_type": "stream",
          "name": "stdout",
          "text": [
            "20\n",
            "8\n"
          ]
        }
      ]
    }
  ]
}