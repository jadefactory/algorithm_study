{
  "cells": [
    {
      "cell_type": "markdown",
      "metadata": {
        "id": "PM4ZfQOgWWYJ"
      },
      "source": [
        "#### 정다면체"
      ]
    },
    {
      "cell_type": "markdown",
      "metadata": {},
      "source": [
        "두 개의 정N면체와 정M면체의 두 개의 주사위를 던져서 나올 수 있는 눈의 합 중 가장 확률이 높은 숫자를 출력하는 프로그램을 작성하세요. 결과가 여러 개일 경우 오름차순으로 출력합니다.\n",
        "- 첫 번째 줄에는 자연수 N과 M이 주어집니다. N과 M은 4, 6, 8, 12, 20 중의 하나입니다.\n",
        "- 첫 번째 줄에 답을 출력합니다."
      ]
    },
    {
      "cell_type": "code",
      "execution_count": null,
      "metadata": {
        "colab": {
          "base_uri": "https://localhost:8080/"
        },
        "id": "X71hDPhQWQ_A",
        "outputId": "9daa44d8-4600-41fa-abc4-12b83523f971"
      },
      "outputs": [
        {
          "name": "stdout",
          "output_type": "stream",
          "text": [
            "4 6\n",
            "5 6 7 "
          ]
        }
      ],
      "source": [
        "import collections\n",
        "\n",
        "N, M = map(int, input().split())\n",
        "\n",
        "N_numbers = []\n",
        "M_numbers = []\n",
        "\n",
        "for num in range(1, N + 1):\n",
        "    N_numbers.append(num)\n",
        "\n",
        "for num in range(1, M + 1):\n",
        "    M_numbers.append(num)\n",
        "\n",
        "summation = []\n",
        "for i in N_numbers:\n",
        "    for j in M_numbers:\n",
        "        summation.append(i + j)\n",
        "\n",
        "count_result = collections.Counter(summation)\n",
        "result_sorted = sorted(count_result.items(), key=lambda item:item[1])\n",
        "max_count = result_sorted[-1][1]\n",
        "\n",
        "for case in result_sorted:\n",
        "    if case[1] == max_count:\n",
        "        print(case[0], end=' ')"
      ]
    },
    {
      "cell_type": "markdown",
      "metadata": {
        "id": "DK2BZgSae6W4"
      },
      "source": [
        "#### 자릿수의 합"
      ]
    },
    {
      "cell_type": "markdown",
      "metadata": {},
      "source": [
        "N개의 자연수가 입력되면 각 자연수의 자릿수의 합을 구하고, 그 합이 최대인 자연수를 출력하는 프로그램을 작성하세요. 각 자연수의 자릿수의 합을 구하는 함수를 def digit_sum(x)라는 이름으로 작성하여 프로그래밍 하세요.\n",
        "- 첫 줄에 자연수의 개수 N(3 <= N <= 100)이 주어지고, 그 다음 줄에 N개의 자연수가 주어집니다. 각 자연수의 크기는 10,000,000를 넘지 않습니다.\n",
        "- 자릿수의 합이 최대인 자연수를 출력하세요. 자릿수의 합의 같을 경우, 입력순으로 먼저인 숫자를 출력합니다."
      ]
    },
    {
      "cell_type": "code",
      "execution_count": null,
      "metadata": {
        "id": "WFoAf77VWzvA"
      },
      "outputs": [],
      "source": [
        "# <input>\n",
        "# 3\n",
        "# 125 15232 97\n",
        "\n",
        "from sys import stdin\n",
        "\n",
        "N = int(stdin.readline())\n",
        "strings = list(stdin.readline().strip().split())\n",
        "\n",
        "\n",
        "def digit_sum(x):\n",
        "\n",
        "    digits = []\n",
        "    for num in strings:\n",
        "        digits.append(num.split())\n",
        "\n",
        "    numbers = []\n",
        "    for num_set in digits:\n",
        "        for elem in num_set:\n",
        "            numbers.append(list(map(int, elem)))\n",
        "\n",
        "    summation = []\n",
        "    for arr in numbers:\n",
        "        summation.append(sum(arr))\n",
        "\n",
        "    summation_sorted = sorted(summation)\n",
        "    max_sum = summation_sorted[-1]\n",
        "\n",
        "    max_index = None\n",
        "    for index, value in enumerate(summation):\n",
        "        if value == max_sum:\n",
        "            max_index = index\n",
        "\n",
        "    answer = int(digits[max_index][0])\n",
        "    return answer\n",
        "\n",
        "\n",
        "print(digit_sum(N))\n",
        "\n",
        "# <output>\n",
        "# 97"
      ]
    },
    {
      "cell_type": "markdown",
      "metadata": {
        "id": "siVAF7C7fDe3"
      },
      "source": [
        "#### 소수(에라토스테네스 체)"
      ]
    },
    {
      "cell_type": "code",
      "execution_count": null,
      "metadata": {
        "colab": {
          "base_uri": "https://localhost:8080/"
        },
        "id": "--jEtdwDfFnO",
        "outputId": "e9f6f0ec-e515-433b-be75-25843e2287bb"
      },
      "outputs": [
        {
          "name": "stdout",
          "output_type": "stream",
          "text": [
            "20\n",
            "8\n"
          ]
        }
      ],
      "source": [
        "N = int(input())\n",
        "\n",
        "numbers = []\n",
        "for num in range(2, N + 1):\n",
        "    numbers.append(num)\n",
        "\n",
        "prime_number = []\n",
        "for num in numbers:\n",
        "    container = []\n",
        "    for i in range(1, num + 1):\n",
        "        if num % i == 0:\n",
        "            container.append(i)\n",
        "    \n",
        "    if len(container) == 2:\n",
        "        prime_number.append(num)\n",
        "\n",
        "print(len(prime_number))"
      ]
    }
  ],
  "metadata": {
    "colab": {
      "collapsed_sections": [],
      "name": "알고리즘 연습장",
      "provenance": []
    },
    "kernelspec": {
      "display_name": "Python 3",
      "name": "python3"
    },
    "language_info": {
      "name": "python"
    }
  },
  "nbformat": 4,
  "nbformat_minor": 0
}
