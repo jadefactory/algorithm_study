{
  "nbformat": 4,
  "nbformat_minor": 0,
  "metadata": {
    "colab": {
      "name": "알고리즘 연습장",
      "provenance": [],
      "collapsed_sections": []
    },
    "kernelspec": {
      "name": "python3",
      "display_name": "Python 3"
    },
    "language_info": {
      "name": "python"
    }
  },
  "cells": [
    {
      "cell_type": "markdown",
      "source": [
        "#### 뒤집은 소수"
      ],
      "metadata": {
        "id": "gVZLRYaaOO7q"
      }
    },
    {
      "cell_type": "code",
      "source": [
        "# <input>\n",
        "# 5\n",
        "# 32 55 62 3700 250\n",
        "\n",
        "from sys import stdin\n",
        "\n",
        "N = int(stdin.readline())\n",
        "num_list = list(stdin.readline().strip().split())\n",
        "\n",
        "\n",
        "def reverse(x):\n",
        "    result = x[::-1]\n",
        "    return int(result)\n",
        "\n",
        "\n",
        "def isPrime(x):\n",
        "    numbers = []\n",
        "\n",
        "    for number in range(1, x + 1):\n",
        "        numbers.append(number)\n",
        "\n",
        "    container = []\n",
        "    for number in numbers:\n",
        "        if x % number == 0:\n",
        "            container.append(number)\n",
        "\n",
        "    if len(container) == 2:\n",
        "        return True\n",
        "    else:\n",
        "        return False\n",
        "\n",
        "\n",
        "for num in num_list:\n",
        "    reversed_num = reverse(num)\n",
        "    if isPrime(reversed_num):\n",
        "        print(reversed_num, end=' ')\n",
        "\n",
        "# <output>\n",
        "# 23 73"
      ],
      "metadata": {
        "id": "8ReYqcp1OROj"
      },
      "execution_count": null,
      "outputs": []
    },
    {
      "cell_type": "markdown",
      "source": [
        "#### 주사위 게임"
      ],
      "metadata": {
        "id": "B6E6TilYZBy4"
      }
    },
    {
      "cell_type": "code",
      "source": [
        "# <input>\n",
        "# 3\n",
        "# 3 3 6\n",
        "# 2 2 2\n",
        "# 6 2 5\n",
        "\n",
        "from sys import stdin\n",
        "\n",
        "N = int(stdin.readline().strip())\n",
        "\n",
        "candidate = []\n",
        "for _ in range(N):\n",
        "    arr = list(map(int, stdin.readline().strip().split()))\n",
        "    candidate.append(arr)\n",
        "\n",
        "reward = []\n",
        "for case in candidate:\n",
        "    count = 0\n",
        "    case.sort()\n",
        "\n",
        "    if case[0] == case[1]:\n",
        "        count += 1\n",
        "    if case[1] == case[2]:\n",
        "        count += 1\n",
        "    if case[2] == case[0]:\n",
        "        count += 1\n",
        "\n",
        "    if count == 0:\n",
        "        result = case[-1] * 100\n",
        "        reward.append(result)\n",
        "    if count == 2:\n",
        "        result = 1000 + case[-1] * 100\n",
        "        reward.append(result)\n",
        "    if count == 3:\n",
        "        result = 10000 + case[-1] * 1000\n",
        "        reward.append(result)\n",
        "\n",
        "reward.sort()\n",
        "print(reward[-1])\n",
        "\n",
        "# <output>\n",
        "# 12000"
      ],
      "metadata": {
        "id": "Vao9E2xwZFa7"
      },
      "execution_count": null,
      "outputs": []
    },
    {
      "cell_type": "markdown",
      "source": [
        "#### 점수계산"
      ],
      "metadata": {
        "id": "BV8hShPBc6F5"
      }
    },
    {
      "cell_type": "code",
      "source": [
        "# <input>\n",
        "# 10\n",
        "# 1 0 1 1 1 0 0 1 1 0\n",
        "\n",
        "from sys import stdin\n",
        "\n",
        "N = int(stdin.readline())\n",
        "result_list = list(map(int, stdin.readline().strip().split()))\n",
        "score_list = []\n",
        "\n",
        "score = 0\n",
        "for result in result_list:\n",
        "    if result == 1:\n",
        "        score += 1\n",
        "        score_list.append(score)\n",
        "    else:\n",
        "        score = 0\n",
        "\n",
        "print(sum(score_list))\n",
        "\n",
        "# <output>\n",
        "# 10"
      ],
      "metadata": {
        "id": "InbDTIh3c8bj"
      },
      "execution_count": null,
      "outputs": []
    }
  ]
}