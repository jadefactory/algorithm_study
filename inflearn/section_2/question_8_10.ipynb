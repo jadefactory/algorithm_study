{
  "cells": [
    {
      "cell_type": "markdown",
      "metadata": {
        "id": "gVZLRYaaOO7q"
      },
      "source": [
        "#### 뒤집은 소수"
      ]
    },
    {
      "cell_type": "markdown",
      "metadata": {},
      "source": [
        "N개의 자연수가 입력되면 각 자연수를 뒤집은 후, 그 뒤집은 수가 소수이면 그 수를 출력하는 프로그램을 작성하세요. 예를 들어 32를 뒤집으면 23이고, 23은 소수입니다. 그면 23을 출력합니다. 단, 910을 뒤집으면 19로 숫자화 해야 합니다. 숫자 첫 자리에 들어간 0은 무시합니다. 뒤집는 함수인 def reverse(x)와 소수인지를 확인하는 함수 def isPrime(x)를 반드시 작성하여 프로그래밍 하세요.\n",
        "- 첫 줄에 자연수의 개수 N(3 <= N <= 100)이 주어지고, 그 다음 줄에 N개의 자연수가 주어집니다. 각 자연수의 크기는 100,000을 넘지 않습니다.\n",
        "- 첫 줄에 뒤집은 소수를 출력합니다. 결과는 입력된 순서대로 출력합니다."
      ]
    },
    {
      "cell_type": "code",
      "execution_count": null,
      "metadata": {
        "id": "8ReYqcp1OROj"
      },
      "outputs": [],
      "source": [
        "# <input>\n",
        "# 5\n",
        "# 32 55 62 3700 250\n",
        "\n",
        "from sys import stdin\n",
        "\n",
        "N = int(stdin.readline())\n",
        "num_list = list(stdin.readline().strip().split())\n",
        "\n",
        "\n",
        "def reverse(x):\n",
        "    result = x[::-1]\n",
        "    return int(result)\n",
        "\n",
        "\n",
        "def isPrime(x):\n",
        "    numbers = []\n",
        "\n",
        "    for number in range(1, x + 1):\n",
        "        numbers.append(number)\n",
        "\n",
        "    container = []\n",
        "    for number in numbers:\n",
        "        if x % number == 0:\n",
        "            container.append(number)\n",
        "\n",
        "    if len(container) == 2:\n",
        "        return True\n",
        "    else:\n",
        "        return False\n",
        "\n",
        "\n",
        "for num in num_list:\n",
        "    reversed_num = reverse(num)\n",
        "    if isPrime(reversed_num):\n",
        "        print(reversed_num, end=' ')\n",
        "\n",
        "# <output>\n",
        "# 23 73"
      ]
    },
    {
      "cell_type": "markdown",
      "metadata": {
        "id": "B6E6TilYZBy4"
      },
      "source": [
        "#### 주사위 게임"
      ]
    },
    {
      "cell_type": "code",
      "execution_count": null,
      "metadata": {
        "id": "Vao9E2xwZFa7"
      },
      "outputs": [],
      "source": [
        "# <input>\n",
        "# 3\n",
        "# 3 3 6\n",
        "# 2 2 2\n",
        "# 6 2 5\n",
        "\n",
        "from sys import stdin\n",
        "\n",
        "N = int(stdin.readline().strip())\n",
        "\n",
        "candidate = []\n",
        "for _ in range(N):\n",
        "    arr = list(map(int, stdin.readline().strip().split()))\n",
        "    candidate.append(arr)\n",
        "\n",
        "reward = []\n",
        "for case in candidate:\n",
        "    count = 0\n",
        "    case.sort()\n",
        "\n",
        "    if case[0] == case[1]:\n",
        "        count += 1\n",
        "    if case[1] == case[2]:\n",
        "        count += 1\n",
        "    if case[2] == case[0]:\n",
        "        count += 1\n",
        "\n",
        "    if count == 0:\n",
        "        result = case[-1] * 100\n",
        "        reward.append(result)\n",
        "    if count == 2:\n",
        "        result = 1000 + case[-1] * 100\n",
        "        reward.append(result)\n",
        "    if count == 3:\n",
        "        result = 10000 + case[-1] * 1000\n",
        "        reward.append(result)\n",
        "\n",
        "reward.sort()\n",
        "print(reward[-1])\n",
        "\n",
        "# <output>\n",
        "# 12000"
      ]
    },
    {
      "cell_type": "markdown",
      "metadata": {
        "id": "BV8hShPBc6F5"
      },
      "source": [
        "#### 점수계산"
      ]
    },
    {
      "cell_type": "code",
      "execution_count": null,
      "metadata": {
        "id": "InbDTIh3c8bj"
      },
      "outputs": [],
      "source": [
        "# <input>\n",
        "# 10\n",
        "# 1 0 1 1 1 0 0 1 1 0\n",
        "\n",
        "from sys import stdin\n",
        "\n",
        "N = int(stdin.readline())\n",
        "result_list = list(map(int, stdin.readline().strip().split()))\n",
        "score_list = []\n",
        "\n",
        "score = 0\n",
        "for result in result_list:\n",
        "    if result == 1:\n",
        "        score += 1\n",
        "        score_list.append(score)\n",
        "    else:\n",
        "        score = 0\n",
        "\n",
        "print(sum(score_list))\n",
        "\n",
        "# <output>\n",
        "# 10"
      ]
    }
  ],
  "metadata": {
    "colab": {
      "collapsed_sections": [],
      "name": "알고리즘 연습장",
      "provenance": []
    },
    "kernelspec": {
      "display_name": "Python 3",
      "name": "python3"
    },
    "language_info": {
      "name": "python"
    }
  },
  "nbformat": 4,
  "nbformat_minor": 0
}
