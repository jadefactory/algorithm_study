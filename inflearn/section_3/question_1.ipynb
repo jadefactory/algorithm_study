{
  "cells": [
    {
      "cell_type": "markdown",
      "metadata": {
        "id": "q8lXyzO6So9C"
      },
      "source": [
        "#### 회문 문자열 검사"
      ]
    },
    {
      "cell_type": "markdown",
      "metadata": {},
      "source": [
        "N개의 문자열 데이터를 입력받았을 때, 앞에서부터 읽을 때와 뒤에서부터 읽을 때가 같은 경우(회문 문자열) YES를 출력하고 그렇지 않으면 NO를 출력하는 프로그램을 작성하세요.\n",
        "- 첫 줄에 정수 N(1 <= N <= 20)이 주어지고, 그 다음 줄부터 N개의 단어가 입력됩니다. 각 단어의 길이는 100을 넘지 않습니다.\n",
        "- 각 줄에 해당 문자열의 결과를 YES 또는 NO로 출력하세요."
      ]
    },
    {
      "cell_type": "code",
      "execution_count": null,
      "metadata": {
        "id": "p2qBzeUxSr7z"
      },
      "outputs": [],
      "source": [
        "# <input>\n",
        "# 5\n",
        "# level\n",
        "# moon\n",
        "# abcba\n",
        "# soon\n",
        "# gooG\n",
        "\n",
        "from sys import stdin\n",
        "\n",
        "N = int(stdin.readline().strip())\n",
        "string_list = []\n",
        "\n",
        "for _ in range(N):\n",
        "    word = stdin.readline().strip()\n",
        "    string_list.append(word.lower())\n",
        "\n",
        "for index, word in enumerate(string_list):\n",
        "    reversed_word = word[::-1]\n",
        "    if word == reversed_word:\n",
        "        print(f\"#{index + 1} YES\")\n",
        "    else:\n",
        "        print(f\"#{index + 1} NO\")\n",
        "\n",
        "# <output>\n",
        "# #1 YES\n",
        "# #2 NO\n",
        "# #3 YES\n",
        "# #4 NO\n",
        "# #5 YES"
      ]
    }
  ],
  "metadata": {
    "colab": {
      "collapsed_sections": [],
      "name": "알고리즘 연습장",
      "provenance": []
    },
    "kernelspec": {
      "display_name": "Python 3",
      "name": "python3"
    },
    "language_info": {
      "name": "python"
    }
  },
  "nbformat": 4,
  "nbformat_minor": 0
}
