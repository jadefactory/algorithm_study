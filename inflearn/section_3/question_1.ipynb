{
  "nbformat": 4,
  "nbformat_minor": 0,
  "metadata": {
    "colab": {
      "name": "알고리즘 연습장",
      "provenance": [],
      "collapsed_sections": []
    },
    "kernelspec": {
      "name": "python3",
      "display_name": "Python 3"
    },
    "language_info": {
      "name": "python"
    }
  },
  "cells": [
    {
      "cell_type": "markdown",
      "source": [
        "#### 회문 문자열 검사"
      ],
      "metadata": {
        "id": "q8lXyzO6So9C"
      }
    },
    {
      "cell_type": "code",
      "source": [
        "# <input>\n",
        "# 5\n",
        "# level\n",
        "# moon\n",
        "# abcba\n",
        "# soon\n",
        "# gooG\n",
        "\n",
        "from sys import stdin\n",
        "\n",
        "N = int(stdin.readline().strip())\n",
        "string_list = []\n",
        "\n",
        "for _ in range(N):\n",
        "    word = stdin.readline().strip()\n",
        "    string_list.append(word.lower())\n",
        "\n",
        "for index, word in enumerate(string_list):\n",
        "    reversed_word = word[::-1]\n",
        "    if word == reversed_word:\n",
        "        print(f\"#{index + 1} YES\")\n",
        "    else:\n",
        "        print(f\"#{index + 1} NO\")\n",
        "\n",
        "# <output>\n",
        "# #1 YES\n",
        "# #2 NO\n",
        "# #3 YES\n",
        "# #4 NO\n",
        "# #5 YES"
      ],
      "metadata": {
        "id": "p2qBzeUxSr7z"
      },
      "execution_count": null,
      "outputs": []
    }
  ]
}