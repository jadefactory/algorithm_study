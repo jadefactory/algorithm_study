{
  "cells": [
    {
      "cell_type": "markdown",
      "metadata": {
        "id": "nOLqMip-l-p2"
      },
      "source": [
        "#### 숫자만 추출"
      ]
    },
    {
      "cell_type": "markdown",
      "metadata": {},
      "source": [
        "문자와 숫자가 섞여있는 문자열이 주어지면 그 중 숫자만 추출하여 그 순서대로 자연수를 만듭니다. 첫 자리에 0이 온다면 자연수화할 때 무시합니다. 만들어진 자연수와 그 자연수의 약수 갯수를 출력하는 프로그램을 작성하세요. 추출하여 만들어지는 자연수는 100,000,000을 넘지 않습니다.\n",
        "- 첫 줄에 숫자가 섞인 문자열이 주어집니다. 문자열의 길이는 50을 넘지 않습니다.\n",
        "- 첫 줄에 자연수를 출력하고, 두 번째 줄에 약수의 갯수를 출력합니다."
      ]
    },
    {
      "cell_type": "code",
      "execution_count": null,
      "metadata": {
        "colab": {
          "base_uri": "https://localhost:8080/"
        },
        "id": "1NASggLvcrxz",
        "outputId": "5308fb44-5d8b-492f-e0b4-477c10e0f034"
      },
      "outputs": [
        {
          "name": "stdout",
          "output_type": "stream",
          "text": [
            "g0en2Ts8eSoft\n",
            "28\n",
            "6\n"
          ]
        }
      ],
      "source": [
        "# <input>\n",
        "# g0en2Ts8eSoft\n",
        "\n",
        "raw_data = input()\n",
        "num_list = []\n",
        "\n",
        "for data in raw_data:\n",
        "    if data.isdigit():\n",
        "        num_list.append(data)\n",
        "\n",
        "num_string = ''.join(num_list)\n",
        "\n",
        "answer = []\n",
        "\n",
        "answer_num = int(num_string)\n",
        "answer.append(answer_num)\n",
        "\n",
        "measure_list = []\n",
        "for i in range(1, answer_num + 1):\n",
        "    if answer_num % i == 0:\n",
        "        measure_list.append(i)\n",
        "\n",
        "answer.append(len(measure_list))\n",
        "\n",
        "for i in answer:\n",
        "    print(i)\n",
        "\n",
        "# <output>\n",
        "# 28\n",
        "# 6"
      ]
    },
    {
      "cell_type": "code",
      "execution_count": null,
      "metadata": {
        "id": "PaPi7LcaokZ3"
      },
      "outputs": [],
      "source": []
    }
  ],
  "metadata": {
    "colab": {
      "collapsed_sections": [],
      "name": "알고리즘 연습장",
      "provenance": []
    },
    "kernelspec": {
      "display_name": "Python 3",
      "name": "python3"
    },
    "language_info": {
      "name": "python"
    }
  },
  "nbformat": 4,
  "nbformat_minor": 0
}
