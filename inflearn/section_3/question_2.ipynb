{
  "nbformat": 4,
  "nbformat_minor": 0,
  "metadata": {
    "colab": {
      "name": "알고리즘 연습장",
      "provenance": [],
      "collapsed_sections": []
    },
    "kernelspec": {
      "name": "python3",
      "display_name": "Python 3"
    },
    "language_info": {
      "name": "python"
    }
  },
  "cells": [
    {
      "cell_type": "markdown",
      "source": [
        "#### 숫자만 추출"
      ],
      "metadata": {
        "id": "nOLqMip-l-p2"
      }
    },
    {
      "cell_type": "code",
      "source": [
        "# <input>\n",
        "# g0en2Ts8eSoft\n",
        "\n",
        "raw_data = input()\n",
        "num_list = []\n",
        "\n",
        "for data in raw_data:\n",
        "    if data.isdigit():\n",
        "        num_list.append(data)\n",
        "\n",
        "num_string = ''.join(num_list)\n",
        "\n",
        "answer = []\n",
        "\n",
        "answer_num = int(num_string)\n",
        "answer.append(answer_num)\n",
        "\n",
        "measure_list = []\n",
        "for i in range(1, answer_num + 1):\n",
        "    if answer_num % i == 0:\n",
        "        measure_list.append(i)\n",
        "\n",
        "answer.append(len(measure_list))\n",
        "\n",
        "for i in answer:\n",
        "    print(i)\n",
        "\n",
        "# <output>\n",
        "# 28\n",
        "# 6"
      ],
      "metadata": {
        "id": "1NASggLvcrxz",
        "colab": {
          "base_uri": "https://localhost:8080/"
        },
        "outputId": "5308fb44-5d8b-492f-e0b4-477c10e0f034"
      },
      "execution_count": null,
      "outputs": [
        {
          "output_type": "stream",
          "name": "stdout",
          "text": [
            "g0en2Ts8eSoft\n",
            "28\n",
            "6\n"
          ]
        }
      ]
    },
    {
      "cell_type": "code",
      "source": [
        ""
      ],
      "metadata": {
        "id": "PaPi7LcaokZ3"
      },
      "execution_count": null,
      "outputs": []
    }
  ]
}