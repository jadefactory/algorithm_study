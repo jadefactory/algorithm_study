{
  "cells": [
    {
      "cell_type": "markdown",
      "metadata": {
        "id": "RBo8g_3iq2Ba"
      },
      "source": [
        "#### 카드 역배치"
      ]
    },
    {
      "cell_type": "code",
      "execution_count": null,
      "metadata": {
        "id": "PaPi7LcaokZ3"
      },
      "outputs": [],
      "source": [
        "# <input>\n",
        "# 5 10\n",
        "# 9 13\n",
        "# 1 2\n",
        "# 3 4\n",
        "# 5 6\n",
        "# 1 2\n",
        "# 3 4\n",
        "# 5 6\n",
        "# 1 20\n",
        "# 1 20\n",
        "\n",
        "from sys import stdin\n",
        "\n",
        "index_list = []\n",
        "for _ in range(10):\n",
        "    index = list(map(int, stdin.readline().strip().split()))\n",
        "    index[0] -= 1\n",
        "    index_list.append(index)\n",
        "\n",
        "card_list = list(range(1, 21))\n",
        "\n",
        "for idx in index_list:\n",
        "    tmp_arr = card_list[idx[0]:idx[1]]\n",
        "    del card_list[idx[0]:idx[1]]\n",
        "    tmp_arr.reverse()\n",
        "\n",
        "    for i in range(len(tmp_arr)):\n",
        "        card_list.insert(i+idx[0], tmp_arr[i])\n",
        "\n",
        "for num in card_list:\n",
        "    print(num, end=' ')\n",
        "\n",
        "# <output>\n",
        "# 1 2 3 4 10 9 8 7 13 12 11 5 6 14 15 16 17 18 19 20"
      ]
    },
    {
      "cell_type": "code",
      "execution_count": null,
      "metadata": {},
      "outputs": [],
      "source": [
        "arr = list(range(1, 21))\n",
        "print(arr)"
      ]
    }
  ],
  "metadata": {
    "colab": {
      "collapsed_sections": [],
      "name": "알고리즘 연습장",
      "provenance": []
    },
    "kernelspec": {
      "display_name": "Python 3",
      "name": "python3"
    },
    "language_info": {
      "name": "python"
    }
  },
  "nbformat": 4,
  "nbformat_minor": 0
}
