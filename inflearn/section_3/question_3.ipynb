{
  "cells": [
    {
      "cell_type": "markdown",
      "metadata": {
        "id": "RBo8g_3iq2Ba"
      },
      "source": [
        "#### 카드 역배치"
      ]
    },
    {
      "cell_type": "markdown",
      "metadata": {},
      "source": [
        "1부터 20까지 숫자가 하나씩 쓰ㄴ 20장의 카드가 오름차순으로 한 줄로 놓여있습니다. 각 카드의 위치는 1부터 20까지로 나타냅니다. 오름차순으로 한 줄로 놓여있는 20장의 카드에 대해 10개의 구간이 주어지면, 주어진 구간의 순서대로 규칙에 따라 순서를 뒤집는 작업을 연속해서 처리한 뒤  마지막 카드들의 배치를 구하는 프로그램을 작성하세요.\n",
        "- 총 10개의 줄에 걸쳐 한 줄에 하나씩 10개의 구간이 주어집니다. i번째 줄에는 i번째 구간의 시작 위치 ai와 끝 위치 bi가 차례대로 주어집니다. 이 때 두 값의 범위는 1 <= ai <= bi <= 20입니다.\n",
        "- 1부터 20까지 오름차순으로 놓인 카드들에 대해, 입력으로 주어진 10개의 구간 순서대로 뒤집는 작업을 했을 때 마지막 카드들의 배치를 한 줄에 출력합니다."
      ]
    },
    {
      "cell_type": "code",
      "execution_count": null,
      "metadata": {
        "id": "PaPi7LcaokZ3"
      },
      "outputs": [],
      "source": [
        "# <input>\n",
        "# 5 10\n",
        "# 9 13\n",
        "# 1 2\n",
        "# 3 4\n",
        "# 5 6\n",
        "# 1 2\n",
        "# 3 4\n",
        "# 5 6\n",
        "# 1 20\n",
        "# 1 20\n",
        "\n",
        "from sys import stdin\n",
        "\n",
        "index_list = []\n",
        "for _ in range(10):\n",
        "    index = list(map(int, stdin.readline().strip().split()))\n",
        "    index[0] -= 1\n",
        "    index_list.append(index)\n",
        "\n",
        "card_list = list(range(1, 21))\n",
        "\n",
        "for idx in index_list:\n",
        "    tmp_arr = card_list[idx[0]:idx[1]]\n",
        "    del card_list[idx[0]:idx[1]]\n",
        "    tmp_arr.reverse()\n",
        "\n",
        "    for i in range(len(tmp_arr)):\n",
        "        card_list.insert(i+idx[0], tmp_arr[i])\n",
        "\n",
        "for num in card_list:\n",
        "    print(num, end=' ')\n",
        "\n",
        "# <output>\n",
        "# 1 2 3 4 10 9 8 7 13 12 11 5 6 14 15 16 17 18 19 20"
      ]
    },
    {
      "cell_type": "code",
      "execution_count": null,
      "metadata": {},
      "outputs": [],
      "source": [
        "arr = list(range(1, 21))\n",
        "print(arr)"
      ]
    }
  ],
  "metadata": {
    "colab": {
      "collapsed_sections": [],
      "name": "알고리즘 연습장",
      "provenance": []
    },
    "kernelspec": {
      "display_name": "Python 3",
      "name": "python3"
    },
    "language_info": {
      "name": "python"
    }
  },
  "nbformat": 4,
  "nbformat_minor": 0
}
