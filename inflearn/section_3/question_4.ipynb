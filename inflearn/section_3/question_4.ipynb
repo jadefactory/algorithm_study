{
  "cells": [
    {
      "cell_type": "markdown",
      "metadata": {
        "id": "x372NKex7yz7"
      },
      "source": [
        "#### 두 리스트 합치기"
      ]
    },
    {
      "cell_type": "markdown",
      "metadata": {},
      "source": [
        "오름차순으로 정렬이 된 두 리트가 주어지면 두 리스트를 오름차순으로 합쳐 출력하는 프로그램을 작성하세요.\n",
        "- 첫 번째 줄에 첫 번째 리스트의 크기 N(1 <= N <= 100)이 주어집니다.\n",
        "- 두 번째 줄에 N개의 리스트 원소가 오름차순으로 주어집니다.\n",
        "- 세 번째 줄에 두 번째 리스트의 크기 M(1<= M <= 100)이 주어집니다.\n",
        "- 네 번째 줄에 M개의 리스트 원소가 오름차순으로 주어집니다.\n",
        "- 각 리스트의 원소는 int형 변수의 크기를 넘지 않습니다.\n",
        "- 오름차순으로 정렬된 리스트를 출력하세요."
      ]
    },
    {
      "cell_type": "code",
      "execution_count": null,
      "metadata": {
        "id": "IJcEXwBC72Ls"
      },
      "outputs": [],
      "source": [
        "# <input>\n",
        "# 3\n",
        "# 1 3 5\n",
        "# 5\n",
        "# 2 3 6 7 9\n",
        "\n",
        "from sys import stdin\n",
        "\n",
        "N = int(stdin.readline().strip())\n",
        "list_A = list(map(int, stdin.readline().strip().split()))\n",
        "\n",
        "M = int(stdin.readline().strip())\n",
        "list_B = list(map(int, stdin.readline().strip().split()))\n",
        "\n",
        "result = list_A + list_B\n",
        "result.sort()\n",
        "\n",
        "print(result)\n",
        "\n",
        "# <output>\n",
        "# 1 2 3 3 5 6 7 9"
      ]
    }
  ],
  "metadata": {
    "colab": {
      "collapsed_sections": [],
      "name": "알고리즘 연습장",
      "provenance": []
    },
    "kernelspec": {
      "display_name": "Python 3",
      "name": "python3"
    },
    "language_info": {
      "name": "python"
    }
  },
  "nbformat": 4,
  "nbformat_minor": 0
}
