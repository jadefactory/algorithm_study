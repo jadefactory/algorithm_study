{
  "nbformat": 4,
  "nbformat_minor": 0,
  "metadata": {
    "colab": {
      "name": "알고리즘 연습장",
      "provenance": [],
      "collapsed_sections": []
    },
    "kernelspec": {
      "name": "python3",
      "display_name": "Python 3"
    },
    "language_info": {
      "name": "python"
    }
  },
  "cells": [
    {
      "cell_type": "markdown",
      "source": [
        "#### 두 리스트 합치기"
      ],
      "metadata": {
        "id": "x372NKex7yz7"
      }
    },
    {
      "cell_type": "code",
      "source": [
        "# <input>\n",
        "# 3\n",
        "# 1 3 5\n",
        "# 5\n",
        "# 2 3 6 7 9\n",
        "\n",
        "from sys import stdin\n",
        "\n",
        "N = int(stdin.readline().strip())\n",
        "list_A = list(map(int, stdin.readline().strip().split()))\n",
        "\n",
        "M = int(stdin.readline().strip())\n",
        "list_B = list(map(int, stdin.readline().strip().split()))\n",
        "\n",
        "result = list_A + list_B\n",
        "result.sort()\n",
        "\n",
        "print(result)\n",
        "\n",
        "# <output>\n",
        "# 1 2 3 3 5 6 7 9"
      ],
      "metadata": {
        "id": "IJcEXwBC72Ls"
      },
      "execution_count": null,
      "outputs": []
    }
  ]
}