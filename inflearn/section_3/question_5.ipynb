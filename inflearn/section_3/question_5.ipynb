{
  "cells": [
    {
      "cell_type": "markdown",
      "metadata": {
        "id": "W7xiI5opC7Fw"
      },
      "source": [
        "#### 수들의 합"
      ]
    },
    {
      "cell_type": "code",
      "execution_count": null,
      "metadata": {
        "id": "aSPI5XFlC88p"
      },
      "outputs": [],
      "source": [
        "# <input>\n",
        "# 8 3\n",
        "# 1 2 1 3 1 1 1 2\n",
        "\n",
        "from sys import stdin\n",
        "\n",
        "N, M = list(map(int, stdin.readline().strip().split()))\n",
        "num_list = list(map(int, stdin.readline().strip().split()))\n",
        "\n",
        "count = 0\n",
        "for i in range(N):\n",
        "    summation = 0\n",
        "    tmp_list = list()\n",
        "    for j in range(i, N):\n",
        "        tmp_list.append(num_list[j])\n",
        "        if sum(tmp_list) == M:\n",
        "            count += 1\n",
        "            break\n",
        "        if sum(tmp_list) > M:\n",
        "            break\n",
        "\n",
        "print(count)\n",
        "\n",
        "# <output>\n",
        "# 5"
      ]
    }
  ],
  "metadata": {
    "colab": {
      "collapsed_sections": [],
      "name": "알고리즘 연습장",
      "provenance": []
    },
    "kernelspec": {
      "display_name": "Python 3",
      "name": "python3"
    },
    "language_info": {
      "name": "python"
    }
  },
  "nbformat": 4,
  "nbformat_minor": 0
}
