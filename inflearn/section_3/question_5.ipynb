{
  "nbformat": 4,
  "nbformat_minor": 0,
  "metadata": {
    "colab": {
      "name": "알고리즘 연습장",
      "provenance": [],
      "collapsed_sections": []
    },
    "kernelspec": {
      "name": "python3",
      "display_name": "Python 3"
    },
    "language_info": {
      "name": "python"
    }
  },
  "cells": [
    {
      "cell_type": "markdown",
      "source": [
        "#### 수들의 합"
      ],
      "metadata": {
        "id": "W7xiI5opC7Fw"
      }
    },
    {
      "cell_type": "code",
      "source": [
        "# <input>\n",
        "# 8 3\n",
        "# 1 2 1 3 1 1 1 2\n",
        "\n",
        "from sys import stdin\n",
        "\n",
        "N, M = list(map(int, stdin.readline().strip().split()))\n",
        "num_list = list(map(int, stdin.readline().strip().split()))\n",
        "\n",
        "count = 0\n",
        "for i in range(N):\n",
        "    summation = 0\n",
        "    tmp_list = list()\n",
        "    for j in range(i, N):\n",
        "        tmp_list.append(num_list[j])\n",
        "        print(tmp_list)\n",
        "        if sum(tmp_list) == M:\n",
        "            count += 1\n",
        "            break\n",
        "        if sum(tmp_list) > M:\n",
        "            break\n",
        "\n",
        "print(count)\n",
        "\n",
        "# <output>\n",
        "# 5"
      ],
      "metadata": {
        "id": "aSPI5XFlC88p"
      },
      "execution_count": null,
      "outputs": []
    }
  ]
}