{
  "cells": [
    {
      "cell_type": "markdown",
      "metadata": {
        "id": "W7xiI5opC7Fw"
      },
      "source": [
        "#### 수들의 합"
      ]
    },
    {
      "cell_type": "markdown",
      "metadata": {},
      "source": [
        "N개의 수로 된 수열 A[1], A[2], ... , A[N]이 있습니다. 이 수열의 i번째 수부터 j번째 수까지의 합 A[i] + A[i+1] + ... + A[j-1] + A[j]가 M이 되는 경우의 수를 구하는 프로그램을 작성하세요.\n",
        "- 첫째 줄에 N(1 <= N 10,000), M(1 <= M <= 300,000,000)이 주어진다. 다음 줄에는 A[1], A[2], ... , A[N]이 공백으로 분리되어 주어집니다. 각각의 A[x]는 30,000을 넘지 않는 자연수입니다.\n",
        "- 첫째 줄에 경우의 수를 출력하세요."
      ]
    },
    {
      "cell_type": "code",
      "execution_count": null,
      "metadata": {
        "id": "aSPI5XFlC88p"
      },
      "outputs": [],
      "source": [
        "# <input>\n",
        "# 8 3\n",
        "# 1 2 1 3 1 1 1 2\n",
        "\n",
        "from sys import stdin\n",
        "\n",
        "N, M = list(map(int, stdin.readline().strip().split()))\n",
        "num_list = list(map(int, stdin.readline().strip().split()))\n",
        "\n",
        "count = 0\n",
        "for i in range(N):\n",
        "    summation = 0\n",
        "    tmp_list = list()\n",
        "    for j in range(i, N):\n",
        "        tmp_list.append(num_list[j])\n",
        "        if sum(tmp_list) == M:\n",
        "            count += 1\n",
        "            break\n",
        "        if sum(tmp_list) > M:\n",
        "            break\n",
        "\n",
        "print(count)\n",
        "\n",
        "# <output>\n",
        "# 5"
      ]
    }
  ],
  "metadata": {
    "colab": {
      "collapsed_sections": [],
      "name": "알고리즘 연습장",
      "provenance": []
    },
    "kernelspec": {
      "display_name": "Python 3",
      "name": "python3"
    },
    "language_info": {
      "name": "python"
    }
  },
  "nbformat": 4,
  "nbformat_minor": 0
}
