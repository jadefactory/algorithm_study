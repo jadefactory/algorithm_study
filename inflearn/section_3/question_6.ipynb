{
  "nbformat": 4,
  "nbformat_minor": 0,
  "metadata": {
    "colab": {
      "name": "알고리즘 연습장",
      "provenance": [],
      "collapsed_sections": []
    },
    "kernelspec": {
      "name": "python3",
      "display_name": "Python 3"
    },
    "language_info": {
      "name": "python"
    }
  },
  "cells": [
    {
      "cell_type": "markdown",
      "source": [
        "#### 격자판 최대합"
      ],
      "metadata": {
        "id": "E_ocuDlGEuHS"
      }
    },
    {
      "cell_type": "code",
      "source": [
        "# <input>\n",
        "# 5\n",
        "# 10 13 10 12 15\n",
        "# 12 39 30 23 11\n",
        "# 11 25 50 53 15\n",
        "# 19 27 29 37 27\n",
        "# 19 13 30 13 19\n",
        "\n",
        "from sys import stdin\n",
        "\n",
        "N = int(stdin.readline().strip())\n",
        "\n",
        "grid_table = []\n",
        "for _ in range(N):\n",
        "    num_list = list(map(int, stdin.readline().strip().split()))\n",
        "    grid_table.append(num_list)\n",
        "\n",
        "summation_list = []\n",
        "\n",
        "# 각 행의 합\n",
        "for arr in grid_table:\n",
        "    summation_list.append(sum(arr))\n",
        "\n",
        "# 각 열의 합\n",
        "for i in range(N):\n",
        "    sum_result = 0\n",
        "    for j in range(N):\n",
        "        sum_result += grid_table[j][i]\n",
        "    summation_list.append(sum_result)\n",
        "\n",
        "# 두 대각선의 합\n",
        "sum_result_A = 0\n",
        "for i in range(N):\n",
        "    sum_result_A += grid_table[i][i]\n",
        "summation_list.append(sum_result_A)\n",
        "\n",
        "sum_result_B = 0\n",
        "for i in range(N):\n",
        "    sum_result_B += grid_table[i][N-1-i]\n",
        "summation_list.append(sum_result_B)\n",
        "\n",
        "print(max(summation_list))\n",
        "\n",
        "# <output>\n",
        "# 155"
      ],
      "metadata": {
        "id": "WJipe-qMEwiG"
      },
      "execution_count": null,
      "outputs": []
    }
  ]
}