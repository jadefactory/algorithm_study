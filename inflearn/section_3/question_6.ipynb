{
  "cells": [
    {
      "cell_type": "markdown",
      "metadata": {
        "id": "E_ocuDlGEuHS"
      },
      "source": [
        "#### 격자판 최대합"
      ]
    },
    {
      "cell_type": "markdown",
      "metadata": {},
      "source": [
        "5\\*5 격자판에 숫자가 적혀있습니다. N\\*N의 격자판이 주어지면 각 행의 합, 각 열의 합, 두 대각선의 합 중에서 가장 큰 합을 출력하는 프로그램을 작성하세요.\n",
        "- 첫 줄에 자연수 N(1<= N <= 50)이 주어집니다. 두 번째 줄부터 N줄에 걸쳐 각 줄에 N개의 자연수가 주어집니다. 각 자연수는 100을 넘지 않습니다.\n",
        "- 최대합을 출력해주세요."
      ]
    },
    {
      "cell_type": "code",
      "execution_count": null,
      "metadata": {
        "id": "WJipe-qMEwiG"
      },
      "outputs": [],
      "source": [
        "# <input>\n",
        "# 5\n",
        "# 10 13 10 12 15\n",
        "# 12 39 30 23 11\n",
        "# 11 25 50 53 15\n",
        "# 19 27 29 37 27\n",
        "# 19 13 30 13 19\n",
        "\n",
        "from sys import stdin\n",
        "\n",
        "N = int(stdin.readline().strip())\n",
        "\n",
        "grid_table = []\n",
        "for _ in range(N):\n",
        "    num_list = list(map(int, stdin.readline().strip().split()))\n",
        "    grid_table.append(num_list)\n",
        "\n",
        "summation_list = []\n",
        "\n",
        "# 각 행의 합\n",
        "for arr in grid_table:\n",
        "    summation_list.append(sum(arr))\n",
        "\n",
        "# 각 열의 합\n",
        "for i in range(N):\n",
        "    sum_result = 0\n",
        "    for j in range(N):\n",
        "        sum_result += grid_table[j][i]\n",
        "    summation_list.append(sum_result)\n",
        "\n",
        "# 두 대각선의 합\n",
        "sum_result_A = 0\n",
        "for i in range(N):\n",
        "    sum_result_A += grid_table[i][i]\n",
        "summation_list.append(sum_result_A)\n",
        "\n",
        "sum_result_B = 0\n",
        "for i in range(N):\n",
        "    sum_result_B += grid_table[i][N-1-i]\n",
        "summation_list.append(sum_result_B)\n",
        "\n",
        "print(max(summation_list))\n",
        "\n",
        "# <output>\n",
        "# 155"
      ]
    }
  ],
  "metadata": {
    "colab": {
      "collapsed_sections": [],
      "name": "알고리즘 연습장",
      "provenance": []
    },
    "kernelspec": {
      "display_name": "Python 3",
      "name": "python3"
    },
    "language_info": {
      "name": "python"
    }
  },
  "nbformat": 4,
  "nbformat_minor": 0
}
