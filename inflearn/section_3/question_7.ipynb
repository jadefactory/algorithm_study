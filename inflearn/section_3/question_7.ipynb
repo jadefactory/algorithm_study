{
  "nbformat": 4,
  "nbformat_minor": 0,
  "metadata": {
    "colab": {
      "name": "알고리즘 연습장",
      "provenance": [],
      "collapsed_sections": []
    },
    "kernelspec": {
      "name": "python3",
      "display_name": "Python 3"
    },
    "language_info": {
      "name": "python"
    }
  },
  "cells": [
    {
      "cell_type": "markdown",
      "source": [
        "#### 사과나무(다이아몬드)"
      ],
      "metadata": {
        "id": "e-lmbkECtBbN"
      }
    },
    {
      "cell_type": "code",
      "source": [
        "# <input>\n",
        "# 5\n",
        "# 10 13 10 12 15\n",
        "# 12 39 30 23 11\n",
        "# 11 25 50 53 15\n",
        "# 19 27 29 37 27\n",
        "# 19 13 30 13 19\n",
        "\n",
        "from sys import stdin\n",
        "\n",
        "N = int(stdin.readline().strip())\n",
        "\n",
        "num_list = []\n",
        "for _ in range(N):\n",
        "    arr = list(map(int, stdin.readline().strip().split()))\n",
        "    num_list.append(arr)\n",
        "\n",
        "middle = N // 2\n",
        "crop_list = []\n",
        "for i in range(middle+1):\n",
        "    for j in range(-i, i+1):\n",
        "        crop_list.append(num_list[i][middle+j])\n",
        "\n",
        "for i in range(middle+1, N):\n",
        "    idx = (N-1) - i\n",
        "    for j in range(-idx, idx+1):\n",
        "        crop_list.append(num_list[i][middle+j])\n",
        "\n",
        "print(sum(crop_list))\n",
        "\n",
        "# <output>\n",
        "# 379"
      ],
      "metadata": {
        "id": "QE2cEAYqtEKy"
      },
      "execution_count": null,
      "outputs": []
    }
  ]
}