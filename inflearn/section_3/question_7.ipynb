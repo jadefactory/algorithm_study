{
  "cells": [
    {
      "cell_type": "markdown",
      "metadata": {
        "id": "e-lmbkECtBbN"
      },
      "source": [
        "#### 사과나무(다이아몬드)"
      ]
    },
    {
      "cell_type": "markdown",
      "metadata": {},
      "source": [
        "현수의 농장은 N*N 격자판으로 이루어져 있으며, 각 격자 안에는 한 그루의 사과나무가 심어져 있습니다. N의 크기는 항상 홀수입니다. 가을이 되어 사과를 수확하려 하는데, 현수는 격자판 안의 사과를 수확할 때 다이아몬드 모양의 격자판만 수확하고 나머지 격자 안의 사과는 새들을 위해서 남겨놓습니다. 현수가 수확하는 사과의 총 개수를 출력하는 프로그램을 작성하세요.\n",
        "- 첫 줄에 자연수 N(홀수)이 주어집니다(3 <= N <= 20).\n",
        "- 두 번째 줄부터 N줄에 걸쳐 각 줄에 N개의 자연수가 주어집니다.\n",
        "- 이 자연수는 각 격자 안에 있는 사과나무에 열린 사과의 갯수입니다.\n",
        "- 각 격자 안의 사과의 갯수는 100을 넘지 않습니다.\n",
        "- 수확한 사과의 총 갯수를 출력하세요."
      ]
    },
    {
      "cell_type": "code",
      "execution_count": null,
      "metadata": {
        "id": "QE2cEAYqtEKy"
      },
      "outputs": [],
      "source": [
        "# <input>\n",
        "# 5\n",
        "# 10 13 10 12 15\n",
        "# 12 39 30 23 11\n",
        "# 11 25 50 53 15\n",
        "# 19 27 29 37 27\n",
        "# 19 13 30 13 19\n",
        "\n",
        "from sys import stdin\n",
        "\n",
        "N = int(stdin.readline().strip())\n",
        "\n",
        "num_list = []\n",
        "for _ in range(N):\n",
        "    arr = list(map(int, stdin.readline().strip().split()))\n",
        "    num_list.append(arr)\n",
        "\n",
        "middle = N // 2\n",
        "crop_list = []\n",
        "for i in range(middle+1):\n",
        "    for j in range(-i, i+1):\n",
        "        crop_list.append(num_list[i][middle+j])\n",
        "\n",
        "for i in range(middle+1, N):\n",
        "    idx = (N-1) - i\n",
        "    for j in range(-idx, idx+1):\n",
        "        crop_list.append(num_list[i][middle+j])\n",
        "\n",
        "print(sum(crop_list))\n",
        "\n",
        "# <output>\n",
        "# 379"
      ]
    }
  ],
  "metadata": {
    "colab": {
      "collapsed_sections": [],
      "name": "알고리즘 연습장",
      "provenance": []
    },
    "kernelspec": {
      "display_name": "Python 3",
      "name": "python3"
    },
    "language_info": {
      "name": "python"
    }
  },
  "nbformat": 4,
  "nbformat_minor": 0
}
